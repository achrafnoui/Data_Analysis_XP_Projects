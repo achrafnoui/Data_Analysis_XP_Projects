{
 "cells": [
  {
   "cell_type": "markdown",
   "id": "35d4e17b-eeb6-40dd-a140-7b949390e115",
   "metadata": {
    "tags": []
   },
   "source": [
    "# Analyzing a Time Series of the Thames River in Python\n"
   ]
  },
  {
   "cell_type": "markdown",
   "id": "700735c5-43ee-485d-9555-7e4278ef72e8",
   "metadata": {},
   "source": [
    "_Note: You can consult the solution of this live training in the file browser as `notebook-solution.ipynb`_\n",
    "\n",
    "Time series data is everywhere, from watching your stock portfolio to monitoring climate change, and even live-tracking as local cases of a virus become a global pandemic. In this live code-along, you’ll work with a time series that tracks the tide levels of the Thames River. You’ll first load the data and inspect it data visually, and then perform calculations on the dataset to generate some summary statistics. Next, you’ll decompose the time series into its component attributes. You’ll end with a taster of autocorrelation: a first step in time series forecasting."
   ]
  },
  {
   "cell_type": "markdown",
   "id": "c0625a51-8c67-43f4-85ee-c9206538bf75",
   "metadata": {},
   "source": [
    "The original dataset is available from the British Oceanographic Data Center [here](https://www.bodc.ac.uk/data/published_data_library/catalogue/10.5285/b66afb2c-cd53-7de9-e053-6c86abc0d251) and you can read all about this fascinating archival story in [this article](https://www.nature.com/articles/s41597-022-01223-7) from the Nature journal."
   ]
  },
  {
   "cell_type": "markdown",
   "id": "e412999f-9e42-4eca-9413-7d5fb45b35f9",
   "metadata": {},
   "source": [
    "Here's a map of the locations of the tidal gauges along the River Thames in London."
   ]
  },
  {
   "cell_type": "markdown",
   "id": "c49128f9-07e2-4c88-9e14-ab496743f451",
   "metadata": {},
   "source": [
    "![](locations.png)"
   ]
  },
  {
   "cell_type": "code",
   "execution_count": 1,
   "id": "d0eb4f16-5a99-460d-a5ba-706b7ef0bbe7",
   "metadata": {
    "id": "bA5ajAmk7XH6"
   },
   "outputs": [],
   "source": [
    "# Package imports\n",
    "import pandas as pd\n",
    "import seaborn as sns\n",
    "import matplotlib.pyplot as plt\n"
   ]
  },
  {
   "cell_type": "markdown",
   "id": "ab630a61-7825-49de-9f0c-1ccd5b6d08ce",
   "metadata": {
    "tags": []
   },
   "source": [
    "## Task 1: Read one file to explore the data format and prepare the data for analysis.\n",
    "\n",
    "The dataset consists of 13 .txt files, containing comma separated data. Navigate to the \"Browse and Upload Files\" tab in the toolbar on the right to see the data in a folder called `Data/`. We'll begin by analyzing one of these files and preparing it for analysis. We can then create a helper function in case you are interested in analyzing other data later. \n",
    "\n",
    "The dataset comes with a file called `Data_description.pdf`. \n",
    "\n",
    "| Variable Name | Description | Format |\n",
    "| ------------- | ----------- | ------ |\n",
    "| Date and time | Date and time of measurement to GMT. Note the tide gauge is accurate to one minute. | dd/mm/yyyy hh:mm:ss |\n",
    "| Water level | High or low water level measured by tide gauge. Tide gauges are accurate to 1 centimetre. | metres (Admiralty Chart Datum (CD), Ordnance Datum Newlyn (ODN or Trinity High Water (THW)) | \n",
    "| Flag | High water flag = 1, low water flag = 0 | Categorical (0 or 1) |\n",
    "\n",
    "Let's begin by loading the London Bridge data. When loading time series data, always look out for the time zone the data is provided in. Sometimes, your data might be provided in UTC, and will need to be converted to local time if you want to do local analysis. Fortunately, the description above tells us the data is in GMT, which is the same as coordinated universal time (UTC)."
   ]
  },
  {
   "cell_type": "markdown",
   "id": "62d11290-c1c3-4b4f-b41e-5ce349dae636",
   "metadata": {},
   "source": [
    "### Instructions\n",
    "\n",
    "- Use pandas to read the London Bridge dataset from the CSV file named `Data/10-11_London_Bridge.txt` and assign it to the variable `lb`.\n",
    "- Display `lb`."
   ]
  },
  {
   "cell_type": "code",
   "execution_count": 2,
   "id": "2ca4359b-3fb7-4cfc-8017-36f70e928fba",
   "metadata": {
    "outputsMetadata": {
     "0": {
      "height": 550,
      "tableState": {},
      "type": "dataFrame"
     }
    }
   },
   "outputs": [],
   "source": [
    "london_data = pd.read_csv('Data/10-11_London_Bridge.txt').drop(columns=[' HW=1 or LW=0'])"
   ]
  },
  {
   "cell_type": "markdown",
   "id": "e0d6cb46-4b54-44df-a3f0-42e6939be818",
   "metadata": {},
   "source": [
    "Since one of the column headings in the csv file had a comma (`\"flag, HW=1 or LW=0\"`), `pd.read_csv` has created an extra, empty column. We'll need to drop this extra column and rename our column headings. Shorter and more memorable column names will facilitate our analysis later on.\n",
    "\n",
    "### Instructions\n",
    "- Call `lb.info()` or `lb.describe()` to confirm that the last column is empty and contains no data.\n",
    "- Create a new DataFrame `df` which takes only the first three columns and rename them as `datetime`, `water_level`, and `is_high_tide`, respectively. "
   ]
  },
  {
   "cell_type": "code",
   "execution_count": 3,
   "id": "028bc3c9-55ca-44f2-b4b3-2ab5298ae212",
   "metadata": {
    "outputsMetadata": {
     "0": {
      "height": 248,
      "type": "stream"
     }
    }
   },
   "outputs": [
    {
     "name": "stdout",
     "output_type": "stream",
     "text": [
      "<class 'pandas.core.frame.DataFrame'>\n",
      "RangeIndex: 115503 entries, 0 to 115502\n",
      "Data columns (total 3 columns):\n",
      " #   Column                Non-Null Count   Dtype \n",
      "---  ------                --------------   ----- \n",
      " 0   Date and time         115503 non-null  object\n",
      " 1    water level (m ODN)  115503 non-null  object\n",
      " 2    flag                 115503 non-null  int64 \n",
      "dtypes: int64(1), object(2)\n",
      "memory usage: 2.6+ MB\n"
     ]
    }
   ],
   "source": [
    "london_data.info()"
   ]
  },
  {
   "cell_type": "markdown",
   "id": "67a0f4d1-64d8-4abd-858f-b545c78cdfbf",
   "metadata": {},
   "source": [
    "Calling `lb.info()` above showed us both the `datetime` and `water_level` columns are of type `object`. We'll convert these to `datetime` and `water_level`, respectively. We'll also add two columns, `month` and `year`, which we'll need to access later on.\n",
    "\n",
    "### Instructions\n",
    "- Use `pd.to_datetime()` to convert the `datetime` column to the `datetime` format. Since the dataset is large, this step can take a few seconds.\n",
    "- Use `.astype(float)` to convert the `water_level` column to the `float` format."
   ]
  },
  {
   "cell_type": "markdown",
   "id": "5e7cbf33-974f-4c21-8502-5d189af5f9a6",
   "metadata": {},
   "source": [
    "Before moving on to conduct analysis, let's define a helper function for data cleaning so we don't have to do this each time. The function takes a `DataFrame` (which we'll read from our `.txt` files), renames the columns, formats the `datetime` column, and converts `water_level` to a `float` data type."
   ]
  },
  {
   "cell_type": "code",
   "execution_count": 4,
   "id": "37666300-a31b-4c9e-8459-a4085c3ce0fd",
   "metadata": {},
   "outputs": [],
   "source": [
    "def clean_that_shit(data):\n",
    "    data.columns = ['datetime','water_level','is_high_tide']\n",
    "    data['datetime'] = pd.to_datetime(data['datetime'] , dayfirst=True)\n",
    "    data['water_level'] = data['water_level'].astype(float)\n",
    "    data['month'] = data['datetime'].dt.month\n",
    "    data['year'] = data['datetime'].dt.year\n",
    "    return data\n",
    "london_data = clean_that_shit(london_data)"
   ]
  },
  {
   "cell_type": "markdown",
   "id": "e5a782e3-ac94-4f81-967d-81f7bb714ded",
   "metadata": {},
   "source": [
    "## Task 2. Analyze the London Bridge data to get a sense of the water level."
   ]
  },
  {
   "cell_type": "markdown",
   "id": "a92014dc-d28f-4708-aea4-b0f7dd33212f",
   "metadata": {},
   "source": [
    "Let's begin analyzing the data with a `displot()` or `hist` of `water_level`. This plot shows that the data is bimodal, meaning it has two separate peaks. When we plot the data with `is_high_tide=0 `and `is_high_tide=1`, separately we get two approximately normal distributions, with separate means and variances. Moving forward, we'll analyze low tide and high tide data separately."
   ]
  },
  {
   "cell_type": "markdown",
   "id": "b809f8e7-d493-45aa-bb56-e52611e4e653",
   "metadata": {},
   "source": [
    "### Instructions\n",
    "- Create a `hist` of `df` where `is_high_tide=0`.\n",
    "- Create a `hist` of `df` where `is_high_tide=1`.\n",
    "- Call `plt.show()`."
   ]
  },
  {
   "cell_type": "code",
   "execution_count": 5,
   "id": "23b8aece-fae6-421b-8d75-62f17e9a79da",
   "metadata": {},
   "outputs": [
    {
     "data": {
      "image/png": "[encoded data removed]",
      "text/plain": [
       "<Figure size 640x480 with 1 Axes>"
      ]
     },
     "metadata": {},
     "output_type": "display_data"
    }
   ],
   "source": [
    "london_data[london_data['is_high_tide'] == 0]['water_level'].plot(kind='kde', label='Low Tide')\n",
    "london_data[london_data['is_high_tide'] == 1]['water_level'].plot(kind='kde', label='High Tide')\n",
    "\n",
    "plt.title('Tide Levels Distribution (KDE)')\n",
    "plt.xlabel('Meters')\n",
    "plt.ylabel('Density')\n",
    "plt.legend()\n",
    "plt.show()\n"
   ]
  },
  {
   "cell_type": "markdown",
   "id": "6cb72a6b-1304-4a45-a3d4-bf0ab604fc32",
   "metadata": {},
   "source": [
    "Boxplots will give us a sense of the min, max, range, and outliers of the data. We'll create these separately for high tide and low tide. By default, the whiskers of the boxplot will show us 1.5 * the interquartile range."
   ]
  },
  {
   "cell_type": "markdown",
   "id": "fa4bd25e-1700-40f8-83f2-c2f5b0a37946",
   "metadata": {},
   "source": [
    "### Instructions\n",
    "- Create a boxplot of `df` where `is_high_tide==0`.\n",
    "- Create a boxplot of `df` where `is_high_tide==1`."
   ]
  },
  {
   "cell_type": "code",
   "execution_count": 6,
   "id": "b40fd48b-ee38-47a0-a983-cdf43ef67334",
   "metadata": {},
   "outputs": [
    {
     "data": {
      "image/png": "[encoded data removed]",
      "text/plain": [
       "<Figure size 800x200 with 1 Axes>"
      ]
     },
     "metadata": {},
     "output_type": "display_data"
    },
    {
     "data": {
      "image/png": "[encoded data removed]",
      "text/plain": [
       "<Figure size 800x200 with 1 Axes>"
      ]
     },
     "metadata": {},
     "output_type": "display_data"
    }
   ],
   "source": [
    "plt.figure(figsize=(8,2))\n",
    "sns.boxplot(data=london_data.query('is_high_tide==0'),x='water_level',color='SkyBlue')\n",
    "plt.show()\n",
    "\n",
    "plt.figure(figsize=(8,2))\n",
    "sns.boxplot(data=london_data.query('is_high_tide==1'),x='water_level',color='Tomato')\n",
    "plt.show()"
   ]
  },
  {
   "cell_type": "markdown",
   "id": "e8ffe5ca-54c1-4d5f-8eb1-431b04e25329",
   "metadata": {},
   "source": [
    "We can use the information gathered from our boxplots and summary statistics to count the number of days London Bridge has had high tide over the last 84 years.\n",
    "\n",
    "### Instructions\n",
    "- Use `.describe()` to summarize `water_level` where `is_high_tide==1`.\n",
    "- Count the number of days of data of high tide per year in `df`.\n",
    "- Count the number of days of data where water level was above the 75th percentile in `df`."
   ]
  },
  {
   "cell_type": "code",
   "execution_count": 7,
   "id": "b62717fb-e63e-4ce5-b1a6-e940705aa433",
   "metadata": {
    "outputsMetadata": {
     "0": {
      "height": 50,
      "tableState": {
       "customFilter": {
        "const": {
         "type": "boolean",
         "valid": true,
         "value": true
        },
        "id": "77914499-b4fb-4043-83e6-a636cc5afeaf",
        "nodeType": "const"
       }
      },
      "type": "dataFrame"
     }
    }
   },
   "outputs": [
    {
     "data": {
      "application/vnd.microsoft.datawrangler.viewer.v0+json": {
       "columns": [
        {
         "name": "index",
         "rawType": "object",
         "type": "string"
        },
        {
         "name": "datetime",
         "rawType": "object",
         "type": "unknown"
        },
        {
         "name": "water_level",
         "rawType": "float64",
         "type": "float"
        },
        {
         "name": "is_high_tide",
         "rawType": "float64",
         "type": "float"
        },
        {
         "name": "month",
         "rawType": "float64",
         "type": "float"
        },
        {
         "name": "year",
         "rawType": "float64",
         "type": "float"
        }
       ],
       "ref": "44d28cb7-61fa-4da8-925a-b3fdd9a047e7",
       "rows": [
        [
         "count",
         "57917",
         "57909.0",
         "57917.0",
         "57917.0",
         "57917.0"
        ],
        [
         "mean",
         "1954-03-16 05:09:42.652554496",
         "3.3183726156555977",
         "1.0",
         "6.549717699466478",
         "1953.7014002797107"
        ],
        [
         "min",
         "1911-05-01 15:40:00",
         "0.01",
         "1.0",
         "1.0",
         "1911.0"
        ],
        [
         "25%",
         "1933-02-18 07:02:00",
         "2.9564",
         "1.0",
         "4.0",
         "1933.0"
        ],
        [
         "50%",
         "1954-04-07 04:10:00",
         "3.3526",
         "1.0",
         "7.0",
         "1954.0"
        ],
        [
         "75%",
         "1975-05-14 15:48:00",
         "3.7",
         "1.0",
         "10.0",
         "1975.0"
        ],
        [
         "max",
         "1995-12-31 21:50:00",
         "5.4099",
         "1.0",
         "12.0",
         "1995.0"
        ],
        [
         "std",
         null,
         "0.5094215149597577",
         "0.0",
         "3.4388386151224277",
         "24.334693876561094"
        ]
       ],
       "shape": {
        "columns": 5,
        "rows": 8
       }
      },
      "text/html": [
       "<div>\n",
       "<style scoped>\n",
       "    .dataframe tbody tr th:only-of-type {\n",
       "        vertical-align: middle;\n",
       "    }\n",
       "\n",
       "    .dataframe tbody tr th {\n",
       "        vertical-align: top;\n",
       "    }\n",
       "\n",
       "    .dataframe thead th {\n",
       "        text-align: right;\n",
       "    }\n",
       "</style>\n",
       "<table border=\"1\" class=\"dataframe\">\n",
       "  <thead>\n",
       "    <tr style=\"text-align: right;\">\n",
       "      <th></th>\n",
       "      <th>datetime</th>\n",
       "      <th>water_level</th>\n",
       "      <th>is_high_tide</th>\n",
       "      <th>month</th>\n",
       "      <th>year</th>\n",
       "    </tr>\n",
       "  </thead>\n",
       "  <tbody>\n",
       "    <tr>\n",
       "      <th>count</th>\n",
       "      <td>57917</td>\n",
       "      <td>57909.000000</td>\n",
       "      <td>57917.0</td>\n",
       "      <td>57917.000000</td>\n",
       "      <td>57917.000000</td>\n",
       "    </tr>\n",
       "    <tr>\n",
       "      <th>mean</th>\n",
       "      <td>1954-03-16 05:09:42.652554496</td>\n",
       "      <td>3.318373</td>\n",
       "      <td>1.0</td>\n",
       "      <td>6.549718</td>\n",
       "      <td>1953.701400</td>\n",
       "    </tr>\n",
       "    <tr>\n",
       "      <th>min</th>\n",
       "      <td>1911-05-01 15:40:00</td>\n",
       "      <td>0.010000</td>\n",
       "      <td>1.0</td>\n",
       "      <td>1.000000</td>\n",
       "      <td>1911.000000</td>\n",
       "    </tr>\n",
       "    <tr>\n",
       "      <th>25%</th>\n",
       "      <td>1933-02-18 07:02:00</td>\n",
       "      <td>2.956400</td>\n",
       "      <td>1.0</td>\n",
       "      <td>4.000000</td>\n",
       "      <td>1933.000000</td>\n",
       "    </tr>\n",
       "    <tr>\n",
       "      <th>50%</th>\n",
       "      <td>1954-04-07 04:10:00</td>\n",
       "      <td>3.352600</td>\n",
       "      <td>1.0</td>\n",
       "      <td>7.000000</td>\n",
       "      <td>1954.000000</td>\n",
       "    </tr>\n",
       "    <tr>\n",
       "      <th>75%</th>\n",
       "      <td>1975-05-14 15:48:00</td>\n",
       "      <td>3.700000</td>\n",
       "      <td>1.0</td>\n",
       "      <td>10.000000</td>\n",
       "      <td>1975.000000</td>\n",
       "    </tr>\n",
       "    <tr>\n",
       "      <th>max</th>\n",
       "      <td>1995-12-31 21:50:00</td>\n",
       "      <td>5.409900</td>\n",
       "      <td>1.0</td>\n",
       "      <td>12.000000</td>\n",
       "      <td>1995.000000</td>\n",
       "    </tr>\n",
       "    <tr>\n",
       "      <th>std</th>\n",
       "      <td>NaN</td>\n",
       "      <td>0.509422</td>\n",
       "      <td>0.0</td>\n",
       "      <td>3.438839</td>\n",
       "      <td>24.334694</td>\n",
       "    </tr>\n",
       "  </tbody>\n",
       "</table>\n",
       "</div>"
      ],
      "text/plain": [
       "                            datetime   water_level  is_high_tide  \\\n",
       "count                          57917  57909.000000       57917.0   \n",
       "mean   1954-03-16 05:09:42.652554496      3.318373           1.0   \n",
       "min              1911-05-01 15:40:00      0.010000           1.0   \n",
       "25%              1933-02-18 07:02:00      2.956400           1.0   \n",
       "50%              1954-04-07 04:10:00      3.352600           1.0   \n",
       "75%              1975-05-14 15:48:00      3.700000           1.0   \n",
       "max              1995-12-31 21:50:00      5.409900           1.0   \n",
       "std                              NaN      0.509422           0.0   \n",
       "\n",
       "              month          year  \n",
       "count  57917.000000  57917.000000  \n",
       "mean       6.549718   1953.701400  \n",
       "min        1.000000   1911.000000  \n",
       "25%        4.000000   1933.000000  \n",
       "50%        7.000000   1954.000000  \n",
       "75%       10.000000   1975.000000  \n",
       "max       12.000000   1995.000000  \n",
       "std        3.438839     24.334694  "
      ]
     },
     "execution_count": 7,
     "metadata": {},
     "output_type": "execute_result"
    }
   ],
   "source": [
    "london_data.query('is_high_tide==1').describe()"
   ]
  },
  {
   "cell_type": "code",
   "execution_count": 8,
   "id": "d8591b35-7d68-451c-a0ad-08c6deabc5cf",
   "metadata": {},
   "outputs": [
    {
     "data": {
      "image/png": "[encoded data removed]",
      "text/plain": [
       "<Figure size 800x400 with 1 Axes>"
      ]
     },
     "metadata": {},
     "output_type": "display_data"
    }
   ],
   "source": [
    "q3 = london_data[london_data['is_high_tide'] == 1]['water_level'].quantile(0.75)\n",
    "\n",
    "plt.figure(figsize=(8,4))\n",
    "\n",
    "all_days = london_data.query('is_high_tide==1').groupby('year').count()['is_high_tide']\n",
    "high_days = london_data.query(f'(is_high_tide==1) & (water_level>{q3})').groupby('year').count()['is_high_tide']\n",
    "\n",
    "ratio = (high_days / all_days * 100).reset_index()\n",
    "\n",
    "plt.bar(ratio.year, ratio.is_high_tide, color='steelblue')\n",
    "plt.title('Days Ratio When High Tide Level is > 75th Percentile')\n",
    "plt.xlabel('Year')\n",
    "plt.ylabel('% Ratio')\n",
    "plt.grid(axis='y', linestyle='--', alpha=0.7)\n",
    "plt.show()\n"
   ]
  },
  {
   "cell_type": "markdown",
   "id": "b9d00578-8404-4b09-ae3f-a1f42e3468fb",
   "metadata": {},
   "source": [
    "Tide level are rising, the UK gov better be prepare or do something about it , otherwise they will have to eat the fish for the rest of their life "
   ]
  },
  {
   "cell_type": "markdown",
   "id": "35d29113-6666-43a6-a0be-fec4baa9ff9f",
   "metadata": {},
   "source": [
    "### Instructions\n",
    "- Use `.describe()` to summarize `water_level` where `is_high_tide==0`.\n",
    "- Count the number of days of low tide we have per year in `df`.\n",
    "- Count the number of days of low tide data where water level was below the 25th percentile in `df`."
   ]
  },
  {
   "cell_type": "code",
   "execution_count": 9,
   "id": "f294224e-082c-40fc-b6a7-9bb4fcc7dfc0",
   "metadata": {
    "outputsMetadata": {
     "0": {
      "height": 50,
      "tableState": {
       "customFilter": {
        "const": {
         "type": "boolean",
         "valid": true,
         "value": true
        },
        "id": "77914499-b4fb-4043-83e6-a636cc5afeaf",
        "nodeType": "const"
       }
      },
      "type": "dataFrame"
     }
    }
   },
   "outputs": [
    {
     "data": {
      "application/vnd.microsoft.datawrangler.viewer.v0+json": {
       "columns": [
        {
         "name": "index",
         "rawType": "object",
         "type": "string"
        },
        {
         "name": "datetime",
         "rawType": "object",
         "type": "unknown"
        },
        {
         "name": "water_level",
         "rawType": "float64",
         "type": "float"
        },
        {
         "name": "is_high_tide",
         "rawType": "float64",
         "type": "float"
        },
        {
         "name": "month",
         "rawType": "float64",
         "type": "float"
        },
        {
         "name": "year",
         "rawType": "float64",
         "type": "float"
        }
       ],
       "ref": "bc9b2958-7839-4cb6-866f-9ed54cef4061",
       "rows": [
        [
         "count",
         "57586",
         "57580.0",
         "57586.0",
         "57586.0",
         "57586.0"
        ],
        [
         "mean",
         "1954-03-05 09:04:47.743896256",
         "-2.3837365821465784",
         "0.0",
         "6.548049873233078",
         "1953.6717084013476"
        ],
        [
         "min",
         "1911-05-02 11:25:00",
         "-4.013",
         "0.0",
         "1.0",
         "1911.0"
        ],
        [
         "25%",
         "1933-01-28 13:24:30",
         "-2.6669",
         "0.0",
         "4.0",
         "1933.0"
        ],
        [
         "50%",
         "1954-02-21 16:59:00",
         "-2.4129",
         "0.0",
         "7.0",
         "1954.0"
        ],
        [
         "75%",
         "1975-07-03 11:06:30",
         "-2.1287",
         "0.0",
         "10.0",
         "1975.0"
        ],
        [
         "max",
         "1995-12-31 15:03:00",
         "0.8429",
         "0.0",
         "12.0",
         "1995.0"
        ],
        [
         "std",
         null,
         "0.399747558984538",
         "0.0",
         "3.4392520101289294",
         "24.366550736178436"
        ]
       ],
       "shape": {
        "columns": 5,
        "rows": 8
       }
      },
      "text/html": [
       "<div>\n",
       "<style scoped>\n",
       "    .dataframe tbody tr th:only-of-type {\n",
       "        vertical-align: middle;\n",
       "    }\n",
       "\n",
       "    .dataframe tbody tr th {\n",
       "        vertical-align: top;\n",
       "    }\n",
       "\n",
       "    .dataframe thead th {\n",
       "        text-align: right;\n",
       "    }\n",
       "</style>\n",
       "<table border=\"1\" class=\"dataframe\">\n",
       "  <thead>\n",
       "    <tr style=\"text-align: right;\">\n",
       "      <th></th>\n",
       "      <th>datetime</th>\n",
       "      <th>water_level</th>\n",
       "      <th>is_high_tide</th>\n",
       "      <th>month</th>\n",
       "      <th>year</th>\n",
       "    </tr>\n",
       "  </thead>\n",
       "  <tbody>\n",
       "    <tr>\n",
       "      <th>count</th>\n",
       "      <td>57586</td>\n",
       "      <td>57580.000000</td>\n",
       "      <td>57586.0</td>\n",
       "      <td>57586.000000</td>\n",
       "      <td>57586.000000</td>\n",
       "    </tr>\n",
       "    <tr>\n",
       "      <th>mean</th>\n",
       "      <td>1954-03-05 09:04:47.743896256</td>\n",
       "      <td>-2.383737</td>\n",
       "      <td>0.0</td>\n",
       "      <td>6.548050</td>\n",
       "      <td>1953.671708</td>\n",
       "    </tr>\n",
       "    <tr>\n",
       "      <th>min</th>\n",
       "      <td>1911-05-02 11:25:00</td>\n",
       "      <td>-4.013000</td>\n",
       "      <td>0.0</td>\n",
       "      <td>1.000000</td>\n",
       "      <td>1911.000000</td>\n",
       "    </tr>\n",
       "    <tr>\n",
       "      <th>25%</th>\n",
       "      <td>1933-01-28 13:24:30</td>\n",
       "      <td>-2.666900</td>\n",
       "      <td>0.0</td>\n",
       "      <td>4.000000</td>\n",
       "      <td>1933.000000</td>\n",
       "    </tr>\n",
       "    <tr>\n",
       "      <th>50%</th>\n",
       "      <td>1954-02-21 16:59:00</td>\n",
       "      <td>-2.412900</td>\n",
       "      <td>0.0</td>\n",
       "      <td>7.000000</td>\n",
       "      <td>1954.000000</td>\n",
       "    </tr>\n",
       "    <tr>\n",
       "      <th>75%</th>\n",
       "      <td>1975-07-03 11:06:30</td>\n",
       "      <td>-2.128700</td>\n",
       "      <td>0.0</td>\n",
       "      <td>10.000000</td>\n",
       "      <td>1975.000000</td>\n",
       "    </tr>\n",
       "    <tr>\n",
       "      <th>max</th>\n",
       "      <td>1995-12-31 15:03:00</td>\n",
       "      <td>0.842900</td>\n",
       "      <td>0.0</td>\n",
       "      <td>12.000000</td>\n",
       "      <td>1995.000000</td>\n",
       "    </tr>\n",
       "    <tr>\n",
       "      <th>std</th>\n",
       "      <td>NaN</td>\n",
       "      <td>0.399748</td>\n",
       "      <td>0.0</td>\n",
       "      <td>3.439252</td>\n",
       "      <td>24.366551</td>\n",
       "    </tr>\n",
       "  </tbody>\n",
       "</table>\n",
       "</div>"
      ],
      "text/plain": [
       "                            datetime   water_level  is_high_tide  \\\n",
       "count                          57586  57580.000000       57586.0   \n",
       "mean   1954-03-05 09:04:47.743896256     -2.383737           0.0   \n",
       "min              1911-05-02 11:25:00     -4.013000           0.0   \n",
       "25%              1933-01-28 13:24:30     -2.666900           0.0   \n",
       "50%              1954-02-21 16:59:00     -2.412900           0.0   \n",
       "75%              1975-07-03 11:06:30     -2.128700           0.0   \n",
       "max              1995-12-31 15:03:00      0.842900           0.0   \n",
       "std                              NaN      0.399748           0.0   \n",
       "\n",
       "              month          year  \n",
       "count  57586.000000  57586.000000  \n",
       "mean       6.548050   1953.671708  \n",
       "min        1.000000   1911.000000  \n",
       "25%        4.000000   1933.000000  \n",
       "50%        7.000000   1954.000000  \n",
       "75%       10.000000   1975.000000  \n",
       "max       12.000000   1995.000000  \n",
       "std        3.439252     24.366551  "
      ]
     },
     "execution_count": 9,
     "metadata": {},
     "output_type": "execute_result"
    }
   ],
   "source": [
    "london_data.query('(is_high_tide==0)').describe()"
   ]
  },
  {
   "cell_type": "code",
   "execution_count": 10,
   "id": "00a88762-ee47-4190-b0af-07faae8b8cc3",
   "metadata": {},
   "outputs": [
    {
     "data": {
      "image/png": "[encoded data removed]",
      "text/plain": [
       "<Figure size 800x400 with 1 Axes>"
      ]
     },
     "metadata": {},
     "output_type": "display_data"
    }
   ],
   "source": [
    "q1 = london_data[london_data['is_high_tide'] == 0]['water_level'].quantile(0.25)\n",
    "\n",
    "plt.figure(figsize=(8,4))\n",
    "\n",
    "all_days = london_data.query('is_high_tide==0').groupby('year').count()['is_high_tide']\n",
    "low_days = london_data.query(f'(is_high_tide==0) & (water_level>{q1})').groupby('year').count()['is_high_tide']\n",
    "\n",
    "ratio = (low_days / all_days * 100).reset_index()\n",
    "\n",
    "plt.bar(ratio.year, ratio.is_high_tide, color='steelblue')\n",
    "plt.title('Days Ratio When Low Tide level is > 25th Percentile')\n",
    "plt.xlabel('Year')\n",
    "plt.ylabel('% Ratio')\n",
    "plt.grid(axis='y', linestyle='--', alpha=0.7)\n",
    "plt.show()\n"
   ]
  },
  {
   "cell_type": "markdown",
   "id": "5b34ced8-0e5d-4aac-aeea-0bddc6ca168d",
   "metadata": {},
   "source": [
    "Everythin is cool and under control"
   ]
  },
  {
   "cell_type": "markdown",
   "id": "6bc8d087-7e51-4982-a9dc-25ca836317f6",
   "metadata": {
    "tags": []
   },
   "source": [
    "## Task 3. Assess monthly trends in water level for 1927, 1928 and 1929."
   ]
  },
  {
   "cell_type": "markdown",
   "id": "25c7bc3e-0c52-44d3-9f41-d1f2389c040d",
   "metadata": {},
   "source": [
    "### Instructions\n",
    "- Create an empty DataFrame.\n",
    "- Loop through an array of years 1927, 1928 and 1929.\n",
    "- For each year, group the data by `is_high_tide` and resample by `1M`, calculating the `median`.\n",
    "- Plot the high tide data for these months, with a horizontal line indicating the median of high tide data in these months.\n",
    "- Plot the low tide data for these months, with a horizontal line indicating the median of low tide data in these months."
   ]
  },
  {
   "cell_type": "code",
   "execution_count": 11,
   "id": "f2010b8e-dda6-4ab9-9b87-731449fb8fbe",
   "metadata": {},
   "outputs": [],
   "source": [
    "water_level = pd.DataFrame()\n",
    "\n",
    "for year in [1927, 1928, 1929]:\n",
    "    level_per_year = london_data.query(f'year=={year}').set_index('datetime')\n",
    "    level_per_year = level_per_year.groupby('is_high_tide').resample('ME').median()['water_level'].reset_index()\n",
    "    level_per_year['month'] = level_per_year.datetime.dt.month\n",
    "    level_per_year['year'] = level_per_year.datetime.dt.year\n",
    "    water_level = pd.concat([water_level, level_per_year]).reset_index(drop=True)\n"
   ]
  },
  {
   "cell_type": "code",
   "execution_count": 12,
   "id": "a9d926b1-9541-43b9-a9c5-ec8bb197a2dd",
   "metadata": {
    "outputsMetadata": {
     "0": {
      "height": 550,
      "tableState": {
       "customFilter": {
        "const": {
         "type": "boolean",
         "valid": true,
         "value": true
        },
        "id": "77914499-b4fb-4043-83e6-a636cc5afeaf",
        "nodeType": "const"
       }
      },
      "type": "dataFrame"
     }
    }
   },
   "outputs": [
    {
     "data": {
      "application/vnd.microsoft.datawrangler.viewer.v0+json": {
       "columns": [
        {
         "name": "index",
         "rawType": "int64",
         "type": "integer"
        },
        {
         "name": "is_high_tide",
         "rawType": "int64",
         "type": "integer"
        },
        {
         "name": "datetime",
         "rawType": "datetime64[ns]",
         "type": "datetime"
        },
        {
         "name": "water_level",
         "rawType": "float64",
         "type": "float"
        },
        {
         "name": "month",
         "rawType": "int32",
         "type": "integer"
        },
        {
         "name": "year",
         "rawType": "int32",
         "type": "integer"
        }
       ],
       "ref": "646c595d-2e02-481e-9442-b136d882080d",
       "rows": [
        [
         "0",
         "0",
         "1927-01-31 00:00:00",
         "-2.4081",
         "1",
         "1927"
        ],
        [
         "1",
         "0",
         "1927-02-28 00:00:00",
         "-2.3827",
         "2",
         "1927"
        ],
        [
         "2",
         "0",
         "1927-03-31 00:00:00",
         "-2.3573",
         "3",
         "1927"
        ],
        [
         "3",
         "0",
         "1927-04-30 00:00:00",
         "-2.4335",
         "4",
         "1927"
        ],
        [
         "4",
         "0",
         "1927-05-31 00:00:00",
         "-2.5478",
         "5",
         "1927"
        ],
        [
         "5",
         "0",
         "1927-06-30 00:00:00",
         "-2.5097",
         "6",
         "1927"
        ],
        [
         "6",
         "0",
         "1927-07-31 00:00:00",
         "-2.4589",
         "7",
         "1927"
        ],
        [
         "7",
         "0",
         "1927-08-31 00:00:00",
         "-2.45255",
         "8",
         "1927"
        ],
        [
         "8",
         "0",
         "1927-09-30 00:00:00",
         "-2.37",
         "9",
         "1927"
        ],
        [
         "9",
         "0",
         "1927-10-31 00:00:00",
         "-2.4081",
         "10",
         "1927"
        ],
        [
         "10",
         "0",
         "1927-11-30 00:00:00",
         "-2.37",
         "11",
         "1927"
        ],
        [
         "11",
         "0",
         "1927-12-31 00:00:00",
         "-2.1414",
         "12",
         "1927"
        ],
        [
         "12",
         "1",
         "1927-01-31 00:00:00",
         "3.21135",
         "1",
         "1927"
        ],
        [
         "13",
         "1",
         "1927-02-28 00:00:00",
         "3.2812",
         "2",
         "1927"
        ],
        [
         "14",
         "1",
         "1927-03-31 00:00:00",
         "3.3828",
         "3",
         "1927"
        ],
        [
         "15",
         "1",
         "1927-04-30 00:00:00",
         "3.3955",
         "4",
         "1927"
        ],
        [
         "16",
         "1",
         "1927-05-31 00:00:00",
         "3.27485",
         "5",
         "1927"
        ],
        [
         "17",
         "1",
         "1927-06-30 00:00:00",
         "3.205",
         "6",
         "1927"
        ],
        [
         "18",
         "1",
         "1927-07-31 00:00:00",
         "3.28755",
         "7",
         "1927"
        ],
        [
         "19",
         "1",
         "1927-08-31 00:00:00",
         "3.22405",
         "8",
         "1927"
        ],
        [
         "20",
         "1",
         "1927-09-30 00:00:00",
         "3.37645",
         "9",
         "1927"
        ],
        [
         "21",
         "1",
         "1927-10-31 00:00:00",
         "3.2939",
         "10",
         "1927"
        ],
        [
         "22",
         "1",
         "1927-11-30 00:00:00",
         "3.1986499999999998",
         "11",
         "1927"
        ],
        [
         "23",
         "1",
         "1927-12-31 00:00:00",
         "3.30025",
         "12",
         "1927"
        ],
        [
         "24",
         "0",
         "1928-01-31 00:00:00",
         "-2.33825",
         "1",
         "1928"
        ],
        [
         "25",
         "0",
         "1928-02-29 00:00:00",
         "-2.4335",
         "2",
         "1928"
        ],
        [
         "26",
         "0",
         "1928-03-31 00:00:00",
         "-2.3954",
         "3",
         "1928"
        ],
        [
         "27",
         "0",
         "1928-04-30 00:00:00",
         "-2.4081",
         "4",
         "1928"
        ],
        [
         "28",
         "0",
         "1928-05-31 00:00:00",
         "-2.4335",
         "5",
         "1928"
        ],
        [
         "29",
         "0",
         "1928-06-30 00:00:00",
         "-2.45255",
         "6",
         "1928"
        ],
        [
         "30",
         "0",
         "1928-07-31 00:00:00",
         "-2.51605",
         "7",
         "1928"
        ],
        [
         "31",
         "0",
         "1928-08-31 00:00:00",
         "-2.5224",
         "8",
         "1928"
        ],
        [
         "32",
         "0",
         "1928-09-30 00:00:00",
         "-2.4462",
         "9",
         "1928"
        ],
        [
         "33",
         "0",
         "1928-10-31 00:00:00",
         "-2.4589",
         "10",
         "1928"
        ],
        [
         "34",
         "0",
         "1928-11-30 00:00:00",
         "-2.42715",
         "11",
         "1928"
        ],
        [
         "35",
         "0",
         "1928-12-31 00:00:00",
         "-2.4335",
         "12",
         "1928"
        ],
        [
         "36",
         "1",
         "1928-01-31 00:00:00",
         "3.35105",
         "1",
         "1928"
        ],
        [
         "37",
         "1",
         "1928-02-29 00:00:00",
         "3.32565",
         "2",
         "1928"
        ],
        [
         "38",
         "1",
         "1928-03-31 00:00:00",
         "3.30025",
         "3",
         "1928"
        ],
        [
         "39",
         "1",
         "1928-04-30 00:00:00",
         "3.47805",
         "4",
         "1928"
        ],
        [
         "40",
         "1",
         "1928-05-31 00:00:00",
         "3.3066",
         "5",
         "1928"
        ],
        [
         "41",
         "1",
         "1928-06-30 00:00:00",
         "3.2113500000000004",
         "6",
         "1928"
        ],
        [
         "42",
         "1",
         "1928-07-31 00:00:00",
         "3.0653",
         "7",
         "1928"
        ],
        [
         "43",
         "1",
         "1928-08-31 00:00:00",
         "3.27485",
         "8",
         "1928"
        ],
        [
         "44",
         "1",
         "1928-09-30 00:00:00",
         "3.41455",
         "9",
         "1928"
        ],
        [
         "45",
         "1",
         "1928-10-31 00:00:00",
         "3.43995",
         "10",
         "1928"
        ],
        [
         "46",
         "1",
         "1928-11-30 00:00:00",
         "3.27485",
         "11",
         "1928"
        ],
        [
         "47",
         "1",
         "1928-12-31 00:00:00",
         "3.1669",
         "12",
         "1928"
        ],
        [
         "48",
         "0",
         "1929-01-31 00:00:00",
         "-2.5351",
         "1",
         "1929"
        ],
        [
         "49",
         "0",
         "1929-02-28 00:00:00",
         "-2.5605",
         "2",
         "1929"
        ]
       ],
       "shape": {
        "columns": 5,
        "rows": 72
       }
      },
      "text/html": [
       "<div>\n",
       "<style scoped>\n",
       "    .dataframe tbody tr th:only-of-type {\n",
       "        vertical-align: middle;\n",
       "    }\n",
       "\n",
       "    .dataframe tbody tr th {\n",
       "        vertical-align: top;\n",
       "    }\n",
       "\n",
       "    .dataframe thead th {\n",
       "        text-align: right;\n",
       "    }\n",
       "</style>\n",
       "<table border=\"1\" class=\"dataframe\">\n",
       "  <thead>\n",
       "    <tr style=\"text-align: right;\">\n",
       "      <th></th>\n",
       "      <th>is_high_tide</th>\n",
       "      <th>datetime</th>\n",
       "      <th>water_level</th>\n",
       "      <th>month</th>\n",
       "      <th>year</th>\n",
       "    </tr>\n",
       "  </thead>\n",
       "  <tbody>\n",
       "    <tr>\n",
       "      <th>0</th>\n",
       "      <td>0</td>\n",
       "      <td>1927-01-31</td>\n",
       "      <td>-2.40810</td>\n",
       "      <td>1</td>\n",
       "      <td>1927</td>\n",
       "    </tr>\n",
       "    <tr>\n",
       "      <th>1</th>\n",
       "      <td>0</td>\n",
       "      <td>1927-02-28</td>\n",
       "      <td>-2.38270</td>\n",
       "      <td>2</td>\n",
       "      <td>1927</td>\n",
       "    </tr>\n",
       "    <tr>\n",
       "      <th>2</th>\n",
       "      <td>0</td>\n",
       "      <td>1927-03-31</td>\n",
       "      <td>-2.35730</td>\n",
       "      <td>3</td>\n",
       "      <td>1927</td>\n",
       "    </tr>\n",
       "    <tr>\n",
       "      <th>3</th>\n",
       "      <td>0</td>\n",
       "      <td>1927-04-30</td>\n",
       "      <td>-2.43350</td>\n",
       "      <td>4</td>\n",
       "      <td>1927</td>\n",
       "    </tr>\n",
       "    <tr>\n",
       "      <th>4</th>\n",
       "      <td>0</td>\n",
       "      <td>1927-05-31</td>\n",
       "      <td>-2.54780</td>\n",
       "      <td>5</td>\n",
       "      <td>1927</td>\n",
       "    </tr>\n",
       "    <tr>\n",
       "      <th>...</th>\n",
       "      <td>...</td>\n",
       "      <td>...</td>\n",
       "      <td>...</td>\n",
       "      <td>...</td>\n",
       "      <td>...</td>\n",
       "    </tr>\n",
       "    <tr>\n",
       "      <th>67</th>\n",
       "      <td>1</td>\n",
       "      <td>1929-08-31</td>\n",
       "      <td>3.15420</td>\n",
       "      <td>8</td>\n",
       "      <td>1929</td>\n",
       "    </tr>\n",
       "    <tr>\n",
       "      <th>68</th>\n",
       "      <td>1</td>\n",
       "      <td>1929-09-30</td>\n",
       "      <td>3.28755</td>\n",
       "      <td>9</td>\n",
       "      <td>1929</td>\n",
       "    </tr>\n",
       "    <tr>\n",
       "      <th>69</th>\n",
       "      <td>1</td>\n",
       "      <td>1929-10-31</td>\n",
       "      <td>3.31930</td>\n",
       "      <td>10</td>\n",
       "      <td>1929</td>\n",
       "    </tr>\n",
       "    <tr>\n",
       "      <th>70</th>\n",
       "      <td>1</td>\n",
       "      <td>1929-11-30</td>\n",
       "      <td>3.39550</td>\n",
       "      <td>11</td>\n",
       "      <td>1929</td>\n",
       "    </tr>\n",
       "    <tr>\n",
       "      <th>71</th>\n",
       "      <td>1</td>\n",
       "      <td>1929-12-31</td>\n",
       "      <td>3.35105</td>\n",
       "      <td>12</td>\n",
       "      <td>1929</td>\n",
       "    </tr>\n",
       "  </tbody>\n",
       "</table>\n",
       "<p>72 rows × 5 columns</p>\n",
       "</div>"
      ],
      "text/plain": [
       "    is_high_tide   datetime  water_level  month  year\n",
       "0              0 1927-01-31     -2.40810      1  1927\n",
       "1              0 1927-02-28     -2.38270      2  1927\n",
       "2              0 1927-03-31     -2.35730      3  1927\n",
       "3              0 1927-04-30     -2.43350      4  1927\n",
       "4              0 1927-05-31     -2.54780      5  1927\n",
       "..           ...        ...          ...    ...   ...\n",
       "67             1 1929-08-31      3.15420      8  1929\n",
       "68             1 1929-09-30      3.28755      9  1929\n",
       "69             1 1929-10-31      3.31930     10  1929\n",
       "70             1 1929-11-30      3.39550     11  1929\n",
       "71             1 1929-12-31      3.35105     12  1929\n",
       "\n",
       "[72 rows x 5 columns]"
      ]
     },
     "execution_count": 12,
     "metadata": {},
     "output_type": "execute_result"
    }
   ],
   "source": [
    "water_level"
   ]
  },
  {
   "cell_type": "code",
   "execution_count": 13,
   "id": "4a3a604f-108b-4c4f-bdbf-0338853d4bac",
   "metadata": {},
   "outputs": [
    {
     "data": {
      "image/png": "[encoded data removed]",
      "text/plain": [
       "<Figure size 640x480 with 1 Axes>"
      ]
     },
     "metadata": {},
     "output_type": "display_data"
    }
   ],
   "source": [
    "sns.lineplot(data=water_level[water_level['is_high_tide']==0],\n",
    "            y='water_level',x='month',hue='year')\n",
    "plt.axhline(-2.46,0,12,linestyle='--',color='red')\n",
    "plt.show()"
   ]
  },
  {
   "cell_type": "markdown",
   "id": "1003c070-8a12-478b-821b-2fbbbe3c5bd2",
   "metadata": {},
   "source": [
    "during low tide days , the water level usually spikes around october till the end of december "
   ]
  },
  {
   "cell_type": "code",
   "execution_count": 14,
   "id": "1082a6d1-052e-4c64-a942-0cb5f486e49a",
   "metadata": {},
   "outputs": [
    {
     "data": {
      "image/png": "[encoded data removed]",
      "text/plain": [
       "<Figure size 640x480 with 1 Axes>"
      ]
     },
     "metadata": {},
     "output_type": "display_data"
    }
   ],
   "source": [
    "sns.lineplot(data=water_level[water_level['is_high_tide']==1],y='water_level',x='month',hue='year')\n",
    "plt.axhline(3.24,0,12,linestyle='--',color='red')\n",
    "plt.show()"
   ]
  },
  {
   "cell_type": "markdown",
   "id": "5af97492-36e7-4a70-bf1d-65cc4646bc1a",
   "metadata": {},
   "source": [
    "during low tide days , the water level usually spikes around august till the end of november "
   ]
  },
  {
   "cell_type": "markdown",
   "id": "0c0a055f-7750-43f3-8faf-686c868aaefc",
   "metadata": {},
   "source": [
    "## Task 4. Beginning a forecasting model for London Bridge: a taste of autocorrelation."
   ]
  },
  {
   "cell_type": "code",
   "execution_count": null,
   "id": "cb428931-fe3a-4a18-83da-fa4a3bd74592",
   "metadata": {},
   "outputs": [],
   "source": [
    "df28 = london_data.query('(year==1928) & (month<=6)').reset_index()"
   ]
  },
  {
   "cell_type": "markdown",
   "id": "3d735c35-21de-4c5c-adc9-d4b7ba90e785",
   "metadata": {},
   "source": [
    "When looking at the **high tide levels** for a sample of the data, it appears to have some monthly peaks and troughs.\n",
    "\n",
    "We can compute a metric called autocorrelation to quantify this repeating pattern. We find that autocorrelation is highest at 15 days (waxing and waning of the moon)."
   ]
  },
  {
   "cell_type": "markdown",
   "id": "db45f4e0-7d71-461a-a76c-4ef8e547fb3a",
   "metadata": {},
   "source": [
    "### Instructions\n",
    "- Plot the high tide data for `df28`.\n",
    "- Compute the autocorrelation of `df28` at yearly, monthly, biweekly and daily frequencies."
   ]
  },
  {
   "cell_type": "code",
   "execution_count": 15,
   "id": "2283ba2e-bc2c-4043-be05-c5a8bd5b5466",
   "metadata": {},
   "outputs": [],
   "source": [
    "def autocorr(data,level='1D',flag=0):\n",
    "    high_low = {0:'high',1:'low'}\n",
    "    level_dict = {'1D':'daily','15D':'biweekly','1M':'monthly','1Y':'annual'}\n",
    "    data = data[data['is_high_tide']==flag].set_index('datetime').resample(level).mean()['water_level']\n",
    "    diff = data.diff()\n",
    "    autocorrelation = diff.autocorr()\n",
    "    print(f\"The autocorrelation of {level_dict[level]} {high_low[flag]} values is %4.2f\" %(autocorrelation))\n"
   ]
  },
  {
   "cell_type": "code",
   "execution_count": 16,
   "id": "d35aa610-97e7-414f-bd0c-8e730c1fac70",
   "metadata": {},
   "outputs": [
    {
     "name": "stdout",
     "output_type": "stream",
     "text": [
      "The autocorrelation of annual low values is -0.19\n",
      "The autocorrelation of annual high values is -0.23\n",
      "The autocorrelation of monthly low values is -0.36\n",
      "The autocorrelation of monthly high values is -0.20\n",
      "The autocorrelation of biweekly low values is -0.84\n",
      "The autocorrelation of biweekly high values is -0.74\n",
      "The autocorrelation of daily low values is 0.12\n",
      "The autocorrelation of daily high values is -0.06\n"
     ]
    },
    {
     "name": "stderr",
     "output_type": "stream",
     "text": [
      "C:\\Users\\Dell PC\\AppData\\Local\\Temp\\ipykernel_7012\\1436114755.py:4: FutureWarning: 'Y' is deprecated and will be removed in a future version, please use 'YE' instead.\n",
      "  data = data[data['is_high_tide']==flag].set_index('datetime').resample(level).mean()['water_level']\n",
      "C:\\Users\\Dell PC\\AppData\\Local\\Temp\\ipykernel_7012\\1436114755.py:4: FutureWarning: 'M' is deprecated and will be removed in a future version, please use 'ME' instead.\n",
      "  data = data[data['is_high_tide']==flag].set_index('datetime').resample(level).mean()['water_level']\n"
     ]
    }
   ],
   "source": [
    "autocorr(london_data, level='1Y', flag=1)\n",
    "autocorr(london_data, level='1Y', flag=0)\n",
    "\n",
    "autocorr(london_data, level='1M', flag=1)\n",
    "autocorr(london_data, level='1M', flag=0)\n",
    "\n",
    "autocorr(london_data, level='15D', flag=1)\n",
    "autocorr(london_data, level='15D', flag=0)\n",
    "\n",
    "autocorr(london_data, level='1D', flag=1)\n",
    "autocorr(london_data, level='1D', flag=0)\n"
   ]
  },
  {
   "cell_type": "code",
   "execution_count": null,
   "id": "2bd77bb8-1a6b-4e83-b652-0b3e7ee40d2f",
   "metadata": {},
   "outputs": [],
   "source": []
  },
  {
   "cell_type": "markdown",
   "id": "31ec4793-64e9-4dd4-88d0-2a837e1eb7b8",
   "metadata": {},
   "source": [
    "## Where to next?\n",
    "- Autocorrelation is the first step in building a time series model. To learn more about time series forecasting, check out our course on [Time Series Analysis in Python](https://app.datacamp.com/learn/courses/time-series-analysis-in-python).\n",
    "- To learn more about visualizing time series data, check out [Visualizing Time Series Data in Python](https://app.datacamp.com/learn/courses/visualizing-time-series-data-in-python).\n",
    "- To get started from scratch, visit our [Time Series in Python](https://app.datacamp.com/learn/skill-tracks/time-series-with-python) track."
   ]
  }
 ],
 "metadata": {
  "editor": "DataCamp Workspace",
  "kernelspec": {
   "display_name": "base",
   "language": "python",
   "name": "python3"
  },
  "language_info": {
   "codemirror_mode": {
    "name": "ipython",
    "version": 3
   },
   "file_extension": ".py",
   "mimetype": "text/x-python",
   "name": "python",
   "nbconvert_exporter": "python",
   "pygments_lexer": "ipython3",
   "version": "3.12.7"
  }
 },
 "nbformat": 4,
 "nbformat_minor": 5
}
